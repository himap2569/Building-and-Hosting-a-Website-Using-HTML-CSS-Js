{
  "nbformat": 4,
  "nbformat_minor": 0,
  "metadata": {
    "kernelspec": {
      "display_name": "Python 3",
      "language": "python",
      "name": "python3"
    },
    "language_info": {
      "codemirror_mode": {
        "name": "ipython",
        "version": 3
      },
      "file_extension": ".py",
      "mimetype": "text/x-python",
      "name": "python",
      "nbconvert_exporter": "python",
      "pygments_lexer": "ipython3",
      "version": "3.7.3"
    },
    "colab": {
      "name": "Feature_Selection.ipynb",
      "provenance": [],
      "include_colab_link": true
    }
  },
  "cells": [
    {
      "cell_type": "markdown",
      "metadata": {
        "id": "view-in-github",
        "colab_type": "text"
      },
      "source": [
        "<a href=\"https://colab.research.google.com/github/himap2569/Building-and-Hosting-a-Website-Using-HTML-CSS-Js/blob/master/Feature_Selection.ipynb\" target=\"_parent\"><img src=\"https://colab.research.google.com/assets/colab-badge.svg\" alt=\"Open In Colab\"/></a>"
      ]
    },
    {
      "cell_type": "code",
      "metadata": {
        "id": "HjI6OgmGeH-n",
        "colab_type": "code",
        "colab": {
          "base_uri": "https://localhost:8080/",
          "height": 215
        },
        "outputId": "42f30d20-12dd-4415-cc66-9644c2be8fe1"
      },
      "source": [
        "import pandas as pd\n",
        "df = pd.read_csv(\"/content/cleaned_76hd.csv\")\n",
        "df.head()"
      ],
      "execution_count": 1,
      "outputs": [
        {
          "output_type": "execute_result",
          "data": {
            "text/html": [
              "<div>\n",
              "<style scoped>\n",
              "    .dataframe tbody tr th:only-of-type {\n",
              "        vertical-align: middle;\n",
              "    }\n",
              "\n",
              "    .dataframe tbody tr th {\n",
              "        vertical-align: top;\n",
              "    }\n",
              "\n",
              "    .dataframe thead th {\n",
              "        text-align: right;\n",
              "    }\n",
              "</style>\n",
              "<table border=\"1\" class=\"dataframe\">\n",
              "  <thead>\n",
              "    <tr style=\"text-align: right;\">\n",
              "      <th></th>\n",
              "      <th>V1</th>\n",
              "      <th>V3</th>\n",
              "      <th>V4</th>\n",
              "      <th>V8</th>\n",
              "      <th>V9</th>\n",
              "      <th>V10</th>\n",
              "      <th>V11</th>\n",
              "      <th>V12</th>\n",
              "      <th>V13</th>\n",
              "      <th>V14</th>\n",
              "      <th>V15</th>\n",
              "      <th>V16</th>\n",
              "      <th>V18</th>\n",
              "      <th>V19</th>\n",
              "      <th>V20</th>\n",
              "      <th>V21</th>\n",
              "      <th>V22</th>\n",
              "      <th>V23</th>\n",
              "      <th>V24</th>\n",
              "      <th>V25</th>\n",
              "      <th>V26</th>\n",
              "      <th>V27</th>\n",
              "      <th>V28</th>\n",
              "      <th>V29</th>\n",
              "      <th>V30</th>\n",
              "      <th>V31</th>\n",
              "      <th>V32</th>\n",
              "      <th>V33</th>\n",
              "      <th>V34</th>\n",
              "      <th>V35</th>\n",
              "      <th>V36</th>\n",
              "      <th>V37</th>\n",
              "      <th>V38</th>\n",
              "      <th>V39</th>\n",
              "      <th>V40</th>\n",
              "      <th>V41</th>\n",
              "      <th>V42</th>\n",
              "      <th>V43</th>\n",
              "      <th>V44</th>\n",
              "      <th>V50</th>\n",
              "      <th>V51</th>\n",
              "      <th>V54</th>\n",
              "      <th>V55</th>\n",
              "      <th>V56</th>\n",
              "      <th>V57</th>\n",
              "      <th>V58</th>\n",
              "    </tr>\n",
              "  </thead>\n",
              "  <tbody>\n",
              "    <tr>\n",
              "      <th>0</th>\n",
              "      <td>0.000000</td>\n",
              "      <td>0.708333</td>\n",
              "      <td>1.0</td>\n",
              "      <td>0.0</td>\n",
              "      <td>0.000000</td>\n",
              "      <td>0.723618</td>\n",
              "      <td>0.003953</td>\n",
              "      <td>0.244292</td>\n",
              "      <td>0.0</td>\n",
              "      <td>0.505051</td>\n",
              "      <td>0.370370</td>\n",
              "      <td>1.0</td>\n",
              "      <td>1.0</td>\n",
              "      <td>0.181818</td>\n",
              "      <td>0.045455</td>\n",
              "      <td>0.024691</td>\n",
              "      <td>0.97619</td>\n",
              "      <td>0.0</td>\n",
              "      <td>0.0</td>\n",
              "      <td>0.0</td>\n",
              "      <td>0.0</td>\n",
              "      <td>0.0</td>\n",
              "      <td>0.0</td>\n",
              "      <td>0.659091</td>\n",
              "      <td>0.400000</td>\n",
              "      <td>0.058140</td>\n",
              "      <td>0.603053</td>\n",
              "      <td>0.133333</td>\n",
              "      <td>0.716216</td>\n",
              "      <td>0.615385</td>\n",
              "      <td>0.549180</td>\n",
              "      <td>0.772727</td>\n",
              "      <td>0.0</td>\n",
              "      <td>0.0</td>\n",
              "      <td>0.370968</td>\n",
              "      <td>1.0</td>\n",
              "      <td>0.0</td>\n",
              "      <td>0.637037</td>\n",
              "      <td>0.000000</td>\n",
              "      <td>1.0</td>\n",
              "      <td>0.75</td>\n",
              "      <td>0.0</td>\n",
              "      <td>0.035714</td>\n",
              "      <td>0.185185</td>\n",
              "      <td>0.97619</td>\n",
              "      <td>0.0</td>\n",
              "    </tr>\n",
              "    <tr>\n",
              "      <th>1</th>\n",
              "      <td>0.003367</td>\n",
              "      <td>0.791667</td>\n",
              "      <td>1.0</td>\n",
              "      <td>0.0</td>\n",
              "      <td>0.023256</td>\n",
              "      <td>0.798995</td>\n",
              "      <td>0.003953</td>\n",
              "      <td>0.365297</td>\n",
              "      <td>0.0</td>\n",
              "      <td>0.404040</td>\n",
              "      <td>0.740741</td>\n",
              "      <td>0.0</td>\n",
              "      <td>1.0</td>\n",
              "      <td>0.181818</td>\n",
              "      <td>0.090909</td>\n",
              "      <td>0.049383</td>\n",
              "      <td>0.97619</td>\n",
              "      <td>0.0</td>\n",
              "      <td>1.0</td>\n",
              "      <td>0.0</td>\n",
              "      <td>0.0</td>\n",
              "      <td>0.0</td>\n",
              "      <td>0.0</td>\n",
              "      <td>0.583333</td>\n",
              "      <td>0.400000</td>\n",
              "      <td>0.058140</td>\n",
              "      <td>0.282443</td>\n",
              "      <td>0.160000</td>\n",
              "      <td>0.513514</td>\n",
              "      <td>0.615385</td>\n",
              "      <td>0.672131</td>\n",
              "      <td>0.818182</td>\n",
              "      <td>1.0</td>\n",
              "      <td>0.0</td>\n",
              "      <td>0.241935</td>\n",
              "      <td>0.5</td>\n",
              "      <td>0.0</td>\n",
              "      <td>0.685185</td>\n",
              "      <td>1.000000</td>\n",
              "      <td>1.0</td>\n",
              "      <td>0.00</td>\n",
              "      <td>0.0</td>\n",
              "      <td>0.035714</td>\n",
              "      <td>0.049383</td>\n",
              "      <td>0.97619</td>\n",
              "      <td>1.0</td>\n",
              "    </tr>\n",
              "    <tr>\n",
              "      <th>2</th>\n",
              "      <td>0.006734</td>\n",
              "      <td>0.791667</td>\n",
              "      <td>1.0</td>\n",
              "      <td>0.0</td>\n",
              "      <td>0.023256</td>\n",
              "      <td>0.597990</td>\n",
              "      <td>0.003953</td>\n",
              "      <td>0.235160</td>\n",
              "      <td>0.0</td>\n",
              "      <td>0.202020</td>\n",
              "      <td>0.648148</td>\n",
              "      <td>0.0</td>\n",
              "      <td>1.0</td>\n",
              "      <td>0.181818</td>\n",
              "      <td>0.045455</td>\n",
              "      <td>0.222222</td>\n",
              "      <td>0.97619</td>\n",
              "      <td>0.0</td>\n",
              "      <td>1.0</td>\n",
              "      <td>0.0</td>\n",
              "      <td>0.0</td>\n",
              "      <td>0.0</td>\n",
              "      <td>0.0</td>\n",
              "      <td>0.507576</td>\n",
              "      <td>0.400000</td>\n",
              "      <td>0.040698</td>\n",
              "      <td>0.442748</td>\n",
              "      <td>0.253333</td>\n",
              "      <td>0.378378</td>\n",
              "      <td>0.519231</td>\n",
              "      <td>0.344262</td>\n",
              "      <td>0.727273</td>\n",
              "      <td>1.0</td>\n",
              "      <td>0.0</td>\n",
              "      <td>0.419355</td>\n",
              "      <td>0.5</td>\n",
              "      <td>0.0</td>\n",
              "      <td>0.555556</td>\n",
              "      <td>0.666667</td>\n",
              "      <td>1.0</td>\n",
              "      <td>1.00</td>\n",
              "      <td>0.0</td>\n",
              "      <td>0.035714</td>\n",
              "      <td>0.234568</td>\n",
              "      <td>0.97619</td>\n",
              "      <td>1.0</td>\n",
              "    </tr>\n",
              "    <tr>\n",
              "      <th>3</th>\n",
              "      <td>0.010101</td>\n",
              "      <td>0.166667</td>\n",
              "      <td>1.0</td>\n",
              "      <td>0.0</td>\n",
              "      <td>0.015504</td>\n",
              "      <td>0.648241</td>\n",
              "      <td>0.000000</td>\n",
              "      <td>0.283105</td>\n",
              "      <td>0.0</td>\n",
              "      <td>0.000000</td>\n",
              "      <td>0.000000</td>\n",
              "      <td>0.0</td>\n",
              "      <td>1.0</td>\n",
              "      <td>0.000000</td>\n",
              "      <td>0.045455</td>\n",
              "      <td>0.148148</td>\n",
              "      <td>0.97619</td>\n",
              "      <td>0.0</td>\n",
              "      <td>1.0</td>\n",
              "      <td>0.0</td>\n",
              "      <td>0.0</td>\n",
              "      <td>0.0</td>\n",
              "      <td>0.0</td>\n",
              "      <td>0.848485</td>\n",
              "      <td>0.866667</td>\n",
              "      <td>0.081395</td>\n",
              "      <td>0.885496</td>\n",
              "      <td>0.293333</td>\n",
              "      <td>0.750000</td>\n",
              "      <td>0.403846</td>\n",
              "      <td>0.426230</td>\n",
              "      <td>0.709091</td>\n",
              "      <td>0.0</td>\n",
              "      <td>0.0</td>\n",
              "      <td>0.564516</td>\n",
              "      <td>1.0</td>\n",
              "      <td>0.0</td>\n",
              "      <td>0.618519</td>\n",
              "      <td>0.000000</td>\n",
              "      <td>1.0</td>\n",
              "      <td>0.00</td>\n",
              "      <td>0.0</td>\n",
              "      <td>0.035714</td>\n",
              "      <td>0.037037</td>\n",
              "      <td>0.97619</td>\n",
              "      <td>0.0</td>\n",
              "    </tr>\n",
              "    <tr>\n",
              "      <th>4</th>\n",
              "      <td>0.016835</td>\n",
              "      <td>0.250000</td>\n",
              "      <td>0.0</td>\n",
              "      <td>0.0</td>\n",
              "      <td>0.007752</td>\n",
              "      <td>0.648241</td>\n",
              "      <td>0.003953</td>\n",
              "      <td>0.178082</td>\n",
              "      <td>0.0</td>\n",
              "      <td>0.000000</td>\n",
              "      <td>0.000000</td>\n",
              "      <td>0.0</td>\n",
              "      <td>1.0</td>\n",
              "      <td>0.181818</td>\n",
              "      <td>0.045455</td>\n",
              "      <td>0.074074</td>\n",
              "      <td>0.97619</td>\n",
              "      <td>0.0</td>\n",
              "      <td>0.0</td>\n",
              "      <td>0.0</td>\n",
              "      <td>0.0</td>\n",
              "      <td>0.0</td>\n",
              "      <td>0.0</td>\n",
              "      <td>0.393939</td>\n",
              "      <td>0.000000</td>\n",
              "      <td>0.034884</td>\n",
              "      <td>0.770992</td>\n",
              "      <td>0.206667</td>\n",
              "      <td>0.513514</td>\n",
              "      <td>0.461538</td>\n",
              "      <td>0.426230</td>\n",
              "      <td>0.781818</td>\n",
              "      <td>0.0</td>\n",
              "      <td>0.0</td>\n",
              "      <td>0.225806</td>\n",
              "      <td>0.0</td>\n",
              "      <td>0.0</td>\n",
              "      <td>0.148148</td>\n",
              "      <td>0.000000</td>\n",
              "      <td>1.0</td>\n",
              "      <td>0.00</td>\n",
              "      <td>0.0</td>\n",
              "      <td>0.035714</td>\n",
              "      <td>0.209877</td>\n",
              "      <td>0.97619</td>\n",
              "      <td>0.0</td>\n",
              "    </tr>\n",
              "  </tbody>\n",
              "</table>\n",
              "</div>"
            ],
            "text/plain": [
              "         V1        V3   V4   V8  ...       V55       V56      V57  V58\n",
              "0  0.000000  0.708333  1.0  0.0  ...  0.035714  0.185185  0.97619  0.0\n",
              "1  0.003367  0.791667  1.0  0.0  ...  0.035714  0.049383  0.97619  1.0\n",
              "2  0.006734  0.791667  1.0  0.0  ...  0.035714  0.234568  0.97619  1.0\n",
              "3  0.010101  0.166667  1.0  0.0  ...  0.035714  0.037037  0.97619  0.0\n",
              "4  0.016835  0.250000  0.0  0.0  ...  0.035714  0.209877  0.97619  0.0\n",
              "\n",
              "[5 rows x 46 columns]"
            ]
          },
          "metadata": {
            "tags": []
          },
          "execution_count": 1
        }
      ]
    },
    {
      "cell_type": "code",
      "metadata": {
        "scrolled": true,
        "id": "D-w-W0_4eH_F",
        "colab_type": "code",
        "colab": {
          "base_uri": "https://localhost:8080/",
          "height": 215
        },
        "outputId": "7827c459-b8b6-41dd-ba47-f67d34a01bf2"
      },
      "source": [
        "# Find the correlation between every pair of columns\n",
        "# Correlation: \n",
        "# +1 to -1\n",
        "# +1 highest positive correlation\n",
        "# -1 highest negative correlation\n",
        "# 0 there is no correlation or two variables are independent of each other\n",
        "df.corr().head()"
      ],
      "execution_count": 2,
      "outputs": [
        {
          "output_type": "execute_result",
          "data": {
            "text/html": [
              "<div>\n",
              "<style scoped>\n",
              "    .dataframe tbody tr th:only-of-type {\n",
              "        vertical-align: middle;\n",
              "    }\n",
              "\n",
              "    .dataframe tbody tr th {\n",
              "        vertical-align: top;\n",
              "    }\n",
              "\n",
              "    .dataframe thead th {\n",
              "        text-align: right;\n",
              "    }\n",
              "</style>\n",
              "<table border=\"1\" class=\"dataframe\">\n",
              "  <thead>\n",
              "    <tr style=\"text-align: right;\">\n",
              "      <th></th>\n",
              "      <th>V1</th>\n",
              "      <th>V3</th>\n",
              "      <th>V4</th>\n",
              "      <th>V8</th>\n",
              "      <th>V9</th>\n",
              "      <th>V10</th>\n",
              "      <th>V11</th>\n",
              "      <th>V12</th>\n",
              "      <th>V13</th>\n",
              "      <th>V14</th>\n",
              "      <th>V15</th>\n",
              "      <th>V16</th>\n",
              "      <th>V18</th>\n",
              "      <th>V19</th>\n",
              "      <th>V20</th>\n",
              "      <th>V21</th>\n",
              "      <th>V22</th>\n",
              "      <th>V23</th>\n",
              "      <th>V24</th>\n",
              "      <th>V25</th>\n",
              "      <th>V26</th>\n",
              "      <th>V27</th>\n",
              "      <th>V28</th>\n",
              "      <th>V29</th>\n",
              "      <th>V30</th>\n",
              "      <th>V31</th>\n",
              "      <th>V32</th>\n",
              "      <th>V33</th>\n",
              "      <th>V34</th>\n",
              "      <th>V35</th>\n",
              "      <th>V36</th>\n",
              "      <th>V37</th>\n",
              "      <th>V38</th>\n",
              "      <th>V39</th>\n",
              "      <th>V40</th>\n",
              "      <th>V41</th>\n",
              "      <th>V42</th>\n",
              "      <th>V43</th>\n",
              "      <th>V44</th>\n",
              "      <th>V50</th>\n",
              "      <th>V51</th>\n",
              "      <th>V54</th>\n",
              "      <th>V55</th>\n",
              "      <th>V56</th>\n",
              "      <th>V57</th>\n",
              "      <th>V58</th>\n",
              "    </tr>\n",
              "  </thead>\n",
              "  <tbody>\n",
              "    <tr>\n",
              "      <th>V1</th>\n",
              "      <td>1.000000</td>\n",
              "      <td>-0.010083</td>\n",
              "      <td>-0.093859</td>\n",
              "      <td>-0.063001</td>\n",
              "      <td>-0.077641</td>\n",
              "      <td>0.015701</td>\n",
              "      <td>-0.080009</td>\n",
              "      <td>-0.017834</td>\n",
              "      <td>-0.065309</td>\n",
              "      <td>-0.167396</td>\n",
              "      <td>-0.120408</td>\n",
              "      <td>-0.040467</td>\n",
              "      <td>0.039769</td>\n",
              "      <td>-0.155066</td>\n",
              "      <td>0.043269</td>\n",
              "      <td>-0.020005</td>\n",
              "      <td>0.146835</td>\n",
              "      <td>-0.004183</td>\n",
              "      <td>-0.070714</td>\n",
              "      <td>0.033326</td>\n",
              "      <td>0.227344</td>\n",
              "      <td>-0.009013</td>\n",
              "      <td>-0.079036</td>\n",
              "      <td>-0.048485</td>\n",
              "      <td>-0.113660</td>\n",
              "      <td>-0.106461</td>\n",
              "      <td>-0.076775</td>\n",
              "      <td>-0.053264</td>\n",
              "      <td>-0.045412</td>\n",
              "      <td>-0.171482</td>\n",
              "      <td>-0.017566</td>\n",
              "      <td>-0.072368</td>\n",
              "      <td>0.002927</td>\n",
              "      <td>-0.030108</td>\n",
              "      <td>-0.174173</td>\n",
              "      <td>-0.066888</td>\n",
              "      <td>-0.084147</td>\n",
              "      <td>-0.015049</td>\n",
              "      <td>0.047982</td>\n",
              "      <td>0.035679</td>\n",
              "      <td>-0.076337</td>\n",
              "      <td>-0.102214</td>\n",
              "      <td>0.029645</td>\n",
              "      <td>-0.046618</td>\n",
              "      <td>0.167018</td>\n",
              "      <td>-0.023810</td>\n",
              "    </tr>\n",
              "    <tr>\n",
              "      <th>V3</th>\n",
              "      <td>-0.010083</td>\n",
              "      <td>1.000000</td>\n",
              "      <td>-0.091125</td>\n",
              "      <td>0.036892</td>\n",
              "      <td>0.024249</td>\n",
              "      <td>0.208996</td>\n",
              "      <td>0.029618</td>\n",
              "      <td>0.210434</td>\n",
              "      <td>0.062247</td>\n",
              "      <td>-0.126901</td>\n",
              "      <td>0.043642</td>\n",
              "      <td>0.104400</td>\n",
              "      <td>0.023530</td>\n",
              "      <td>0.130642</td>\n",
              "      <td>-0.105593</td>\n",
              "      <td>-0.076412</td>\n",
              "      <td>-0.008005</td>\n",
              "      <td>0.116750</td>\n",
              "      <td>0.027747</td>\n",
              "      <td>0.119223</td>\n",
              "      <td>0.009818</td>\n",
              "      <td>0.061414</td>\n",
              "      <td>0.015274</td>\n",
              "      <td>-0.420575</td>\n",
              "      <td>0.046291</td>\n",
              "      <td>-0.081706</td>\n",
              "      <td>-0.373203</td>\n",
              "      <td>0.007061</td>\n",
              "      <td>0.086857</td>\n",
              "      <td>0.140505</td>\n",
              "      <td>0.257285</td>\n",
              "      <td>0.045308</td>\n",
              "      <td>0.082731</td>\n",
              "      <td>0.044944</td>\n",
              "      <td>0.192410</td>\n",
              "      <td>0.154615</td>\n",
              "      <td>-0.008327</td>\n",
              "      <td>0.070107</td>\n",
              "      <td>0.350576</td>\n",
              "      <td>0.068727</td>\n",
              "      <td>0.090986</td>\n",
              "      <td>0.041937</td>\n",
              "      <td>-0.085886</td>\n",
              "      <td>-0.053511</td>\n",
              "      <td>-0.022282</td>\n",
              "      <td>0.204405</td>\n",
              "    </tr>\n",
              "    <tr>\n",
              "      <th>V4</th>\n",
              "      <td>-0.093859</td>\n",
              "      <td>-0.091125</td>\n",
              "      <td>1.000000</td>\n",
              "      <td>0.041177</td>\n",
              "      <td>0.008215</td>\n",
              "      <td>-0.050778</td>\n",
              "      <td>0.023165</td>\n",
              "      <td>-0.200173</td>\n",
              "      <td>0.057196</td>\n",
              "      <td>0.323899</td>\n",
              "      <td>0.224247</td>\n",
              "      <td>0.054396</td>\n",
              "      <td>-0.069923</td>\n",
              "      <td>0.042139</td>\n",
              "      <td>-0.026119</td>\n",
              "      <td>0.035775</td>\n",
              "      <td>-0.002976</td>\n",
              "      <td>-0.090437</td>\n",
              "      <td>0.053635</td>\n",
              "      <td>-0.048239</td>\n",
              "      <td>-0.049828</td>\n",
              "      <td>-0.016234</td>\n",
              "      <td>0.003172</td>\n",
              "      <td>0.299711</td>\n",
              "      <td>0.052688</td>\n",
              "      <td>0.054221</td>\n",
              "      <td>-0.044921</td>\n",
              "      <td>-0.191512</td>\n",
              "      <td>0.070908</td>\n",
              "      <td>-0.015825</td>\n",
              "      <td>-0.064361</td>\n",
              "      <td>0.027339</td>\n",
              "      <td>0.184397</td>\n",
              "      <td>0.064933</td>\n",
              "      <td>0.100021</td>\n",
              "      <td>0.040742</td>\n",
              "      <td>-0.019368</td>\n",
              "      <td>0.069551</td>\n",
              "      <td>0.079915</td>\n",
              "      <td>0.086426</td>\n",
              "      <td>0.377250</td>\n",
              "      <td>0.050891</td>\n",
              "      <td>-0.020349</td>\n",
              "      <td>0.055655</td>\n",
              "      <td>-0.023690</td>\n",
              "      <td>0.309349</td>\n",
              "    </tr>\n",
              "    <tr>\n",
              "      <th>V8</th>\n",
              "      <td>-0.063001</td>\n",
              "      <td>0.036892</td>\n",
              "      <td>0.041177</td>\n",
              "      <td>1.000000</td>\n",
              "      <td>0.606848</td>\n",
              "      <td>-0.347700</td>\n",
              "      <td>0.681665</td>\n",
              "      <td>-0.052773</td>\n",
              "      <td>0.552648</td>\n",
              "      <td>0.071758</td>\n",
              "      <td>-0.057571</td>\n",
              "      <td>-0.024955</td>\n",
              "      <td>-0.074596</td>\n",
              "      <td>0.509866</td>\n",
              "      <td>-0.022824</td>\n",
              "      <td>-0.067450</td>\n",
              "      <td>-0.573379</td>\n",
              "      <td>-0.010831</td>\n",
              "      <td>-0.042182</td>\n",
              "      <td>-0.033953</td>\n",
              "      <td>-0.019807</td>\n",
              "      <td>0.158475</td>\n",
              "      <td>0.607652</td>\n",
              "      <td>0.013691</td>\n",
              "      <td>0.101672</td>\n",
              "      <td>0.518713</td>\n",
              "      <td>-0.179189</td>\n",
              "      <td>0.415781</td>\n",
              "      <td>-0.201544</td>\n",
              "      <td>0.216600</td>\n",
              "      <td>-0.173439</td>\n",
              "      <td>-0.386219</td>\n",
              "      <td>-0.041177</td>\n",
              "      <td>0.403946</td>\n",
              "      <td>-0.001912</td>\n",
              "      <td>-0.056179</td>\n",
              "      <td>-0.006099</td>\n",
              "      <td>-0.148042</td>\n",
              "      <td>-0.041687</td>\n",
              "      <td>0.003559</td>\n",
              "      <td>-0.050302</td>\n",
              "      <td>0.743810</td>\n",
              "      <td>-0.022760</td>\n",
              "      <td>0.029773</td>\n",
              "      <td>-0.491480</td>\n",
              "      <td>0.065434</td>\n",
              "    </tr>\n",
              "    <tr>\n",
              "      <th>V9</th>\n",
              "      <td>-0.077641</td>\n",
              "      <td>0.024249</td>\n",
              "      <td>0.008215</td>\n",
              "      <td>0.606848</td>\n",
              "      <td>1.000000</td>\n",
              "      <td>-0.604720</td>\n",
              "      <td>0.986245</td>\n",
              "      <td>-0.083575</td>\n",
              "      <td>0.842932</td>\n",
              "      <td>0.031397</td>\n",
              "      <td>-0.093732</td>\n",
              "      <td>-0.048552</td>\n",
              "      <td>-0.120393</td>\n",
              "      <td>0.394762</td>\n",
              "      <td>0.202462</td>\n",
              "      <td>0.386263</td>\n",
              "      <td>-0.990062</td>\n",
              "      <td>-0.027611</td>\n",
              "      <td>-0.062567</td>\n",
              "      <td>-0.046010</td>\n",
              "      <td>-0.025086</td>\n",
              "      <td>0.277825</td>\n",
              "      <td>0.996317</td>\n",
              "      <td>-0.060130</td>\n",
              "      <td>0.165376</td>\n",
              "      <td>0.957290</td>\n",
              "      <td>-0.323916</td>\n",
              "      <td>0.520376</td>\n",
              "      <td>-0.335379</td>\n",
              "      <td>0.328292</td>\n",
              "      <td>-0.261126</td>\n",
              "      <td>-0.670927</td>\n",
              "      <td>-0.043241</td>\n",
              "      <td>0.655066</td>\n",
              "      <td>0.068722</td>\n",
              "      <td>-0.085752</td>\n",
              "      <td>0.644348</td>\n",
              "      <td>-0.258224</td>\n",
              "      <td>-0.055908</td>\n",
              "      <td>-0.500525</td>\n",
              "      <td>-0.067737</td>\n",
              "      <td>0.493118</td>\n",
              "      <td>0.208776</td>\n",
              "      <td>0.442083</td>\n",
              "      <td>-0.857524</td>\n",
              "      <td>0.144038</td>\n",
              "    </tr>\n",
              "  </tbody>\n",
              "</table>\n",
              "</div>"
            ],
            "text/plain": [
              "          V1        V3        V4  ...       V56       V57       V58\n",
              "V1  1.000000 -0.010083 -0.093859  ... -0.046618  0.167018 -0.023810\n",
              "V3 -0.010083  1.000000 -0.091125  ... -0.053511 -0.022282  0.204405\n",
              "V4 -0.093859 -0.091125  1.000000  ...  0.055655 -0.023690  0.309349\n",
              "V8 -0.063001  0.036892  0.041177  ...  0.029773 -0.491480  0.065434\n",
              "V9 -0.077641  0.024249  0.008215  ...  0.442083 -0.857524  0.144038\n",
              "\n",
              "[5 rows x 46 columns]"
            ]
          },
          "metadata": {
            "tags": []
          },
          "execution_count": 2
        }
      ]
    },
    {
      "cell_type": "code",
      "metadata": {
        "id": "LzDfVCB-eH_V",
        "colab_type": "code",
        "colab": {
          "base_uri": "https://localhost:8080/",
          "height": 275
        },
        "outputId": "988ea767-4bae-456b-caf1-54a3b48b0d67"
      },
      "source": [
        "import matplotlib.pyplot as plt\n",
        "\n",
        "plt.matshow(df.corr())\n",
        "plt.show()\n",
        "# df.corr()"
      ],
      "execution_count": 4,
      "outputs": [
        {
          "output_type": "display_data",
          "data": {
            "image/png": "[encoded data removed]",
            "text/plain": [
              "<Figure size 288x288 with 1 Axes>"
            ]
          },
          "metadata": {
            "tags": [],
            "needs_background": "light"
          }
        }
      ]
    },
    {
      "cell_type": "code",
      "metadata": {
        "id": "zwWsHqQDeH_l",
        "colab_type": "code",
        "colab": {},
        "outputId": "1397ba68-2ec2-4cec-9b03-46a3754381cc"
      },
      "source": [
        "df.columns"
      ],
      "execution_count": 0,
      "outputs": [
        {
          "output_type": "execute_result",
          "data": {
            "text/plain": [
              "Index(['V1', 'V3', 'V4', 'V8', 'V9', 'V10', 'V11', 'V12', 'V13', 'V14', 'V15',\n",
              "       'V16', 'V18', 'V19', 'V20', 'V21', 'V22', 'V23', 'V24', 'V25', 'V26',\n",
              "       'V27', 'V28', 'V29', 'V30', 'V31', 'V32', 'V33', 'V34', 'V35', 'V36',\n",
              "       'V37', 'V38', 'V39', 'V40', 'V41', 'V42', 'V43', 'V44', 'V50', 'V51',\n",
              "       'V54', 'V55', 'V56', 'V57', 'V58'],\n",
              "      dtype='object')"
            ]
          },
          "metadata": {
            "tags": []
          },
          "execution_count": 20
        }
      ]
    },
    {
      "cell_type": "code",
      "metadata": {
        "id": "KIF9i3vveH_z",
        "colab_type": "code",
        "colab": {
          "base_uri": "https://localhost:8080/",
          "height": 282
        },
        "outputId": "73fcc999-3193-479f-e33b-4124fd95205a"
      },
      "source": [
        "#Boxplot\n",
        "# these are used to find the outlier / extreme values in each column\n",
        "df[['V9','V10','V11']].boxplot()"
      ],
      "execution_count": 5,
      "outputs": [
        {
          "output_type": "execute_result",
          "data": {
            "text/plain": [
              "<matplotlib.axes._subplots.AxesSubplot at 0x7ff2709c8c50>"
            ]
          },
          "metadata": {
            "tags": []
          },
          "execution_count": 5
        },
        {
          "output_type": "display_data",
          "data": {
            "image/png": "[encoded data removed]",
            "text/plain": [
              "<Figure size 432x288 with 1 Axes>"
            ]
          },
          "metadata": {
            "tags": [],
            "needs_background": "light"
          }
        }
      ]
    },
    {
      "cell_type": "code",
      "metadata": {
        "id": "nJrJJagHeIAD",
        "colab_type": "code",
        "colab": {
          "base_uri": "https://localhost:8080/",
          "height": 296
        },
        "outputId": "1f910de8-ad7f-424d-f5bd-af4cad079c23"
      },
      "source": [
        "# Scatter plt\n",
        "# it is used to find correlation between two variables\n",
        "df.plot.scatter(x='V10',y='V3')"
      ],
      "execution_count": 7,
      "outputs": [
        {
          "output_type": "execute_result",
          "data": {
            "text/plain": [
              "<matplotlib.axes._subplots.AxesSubplot at 0x7ff2708bd668>"
            ]
          },
          "metadata": {
            "tags": []
          },
          "execution_count": 7
        },
        {
          "output_type": "display_data",
          "data": {
            "image/png": "[encoded data removed]",
            "text/plain": [
              "<Figure size 432x288 with 1 Axes>"
            ]
          },
          "metadata": {
            "tags": [],
            "needs_background": "light"
          }
        }
      ]
    },
    {
      "cell_type": "code",
      "metadata": {
        "id": "HDgBIUzqeIAX",
        "colab_type": "code",
        "colab": {
          "base_uri": "https://localhost:8080/",
          "height": 296
        },
        "outputId": "829677e1-3346-4f9f-927c-fae6b7be523e"
      },
      "source": [
        "df.plot.scatter(x='V9',y='V10')"
      ],
      "execution_count": 8,
      "outputs": [
        {
          "output_type": "execute_result",
          "data": {
            "text/plain": [
              "<matplotlib.axes._subplots.AxesSubplot at 0x7ff26e048eb8>"
            ]
          },
          "metadata": {
            "tags": []
          },
          "execution_count": 8
        },
        {
          "output_type": "display_data",
          "data": {
            "image/png": "[encoded data removed]",
            "text/plain": [
              "<Figure size 432x288 with 1 Axes>"
            ]
          },
          "metadata": {
            "tags": [],
            "needs_background": "light"
          }
        }
      ]
    },
    {
      "cell_type": "code",
      "metadata": {
        "id": "_lQhaeW9eIAr",
        "colab_type": "code",
        "colab": {
          "base_uri": "https://localhost:8080/",
          "height": 296
        },
        "outputId": "be902204-411d-4826-c9b0-9fc33108756f"
      },
      "source": [
        "df.plot.scatter(x='V10',y='V11')"
      ],
      "execution_count": 11,
      "outputs": [
        {
          "output_type": "execute_result",
          "data": {
            "text/plain": [
              "<matplotlib.axes._subplots.AxesSubplot at 0x7ff2708febe0>"
            ]
          },
          "metadata": {
            "tags": []
          },
          "execution_count": 11
        },
        {
          "output_type": "display_data",
          "data": {
            "image/png": "[encoded data removed]",
            "text/plain": [
              "<Figure size 432x288 with 1 Axes>"
            ]
          },
          "metadata": {
            "tags": [],
            "needs_background": "light"
          }
        }
      ]
    },
    {
      "cell_type": "code",
      "metadata": {
        "id": "LXn6iYdDeIAy",
        "colab_type": "code",
        "colab": {
          "base_uri": "https://localhost:8080/",
          "height": 282
        },
        "outputId": "d9f23aaa-0153-4761-cfcf-03b49f40f162"
      },
      "source": [
        "# Histogram\n",
        "# TO check the distribution of data\n",
        "df['V43'].hist()"
      ],
      "execution_count": 10,
      "outputs": [
        {
          "output_type": "execute_result",
          "data": {
            "text/plain": [
              "<matplotlib.axes._subplots.AxesSubplot at 0x7ff26df69f98>"
            ]
          },
          "metadata": {
            "tags": []
          },
          "execution_count": 10
        },
        {
          "output_type": "display_data",
          "data": {
            "image/png": "[encoded data removed]",
            "text/plain": [
              "<Figure size 432x288 with 1 Axes>"
            ]
          },
          "metadata": {
            "tags": [],
            "needs_background": "light"
          }
        }
      ]
    },
    {
      "cell_type": "code",
      "metadata": {
        "id": "NU3ocE1feIA3",
        "colab_type": "code",
        "colab": {
          "base_uri": "https://localhost:8080/",
          "height": 282
        },
        "outputId": "caaea3e6-f886-4c1c-99e7-0e44ff9dab93"
      },
      "source": [
        "df['V30'].hist()"
      ],
      "execution_count": 9,
      "outputs": [
        {
          "output_type": "execute_result",
          "data": {
            "text/plain": [
              "<matplotlib.axes._subplots.AxesSubplot at 0x7ff26dfaf160>"
            ]
          },
          "metadata": {
            "tags": []
          },
          "execution_count": 9
        },
        {
          "output_type": "display_data",
          "data": {
            "image/png": "[encoded data removed]",
            "text/plain": [
              "<Figure size 432x288 with 1 Axes>"
            ]
          },
          "metadata": {
            "tags": [],
            "needs_background": "light"
          }
        }
      ]
    },
    {
      "cell_type": "code",
      "metadata": {
        "id": "hZrhhbxXeIA7",
        "colab_type": "code",
        "colab": {
          "base_uri": "https://localhost:8080/",
          "height": 296
        },
        "outputId": "8ce29e99-3232-4bf3-c0bf-c37717692c95"
      },
      "source": [
        "df.plot.scatter(x='V22',y='V58')"
      ],
      "execution_count": 13,
      "outputs": [
        {
          "output_type": "execute_result",
          "data": {
            "text/plain": [
              "<matplotlib.axes._subplots.AxesSubplot at 0x7ff26deb2c88>"
            ]
          },
          "metadata": {
            "tags": []
          },
          "execution_count": 13
        },
        {
          "output_type": "display_data",
          "data": {
            "image/png": "[encoded data removed]",
            "text/plain": [
              "<Figure size 432x288 with 1 Axes>"
            ]
          },
          "metadata": {
            "tags": [],
            "needs_background": "light"
          }
        }
      ]
    },
    {
      "cell_type": "code",
      "metadata": {
        "id": "uuwuLccdeIA_",
        "colab_type": "code",
        "colab": {
          "base_uri": "https://localhost:8080/",
          "height": 296
        },
        "outputId": "d4c009d6-98f0-4adc-edcf-2a0e23871028"
      },
      "source": [
        "df.plot.scatter(x='V56',y='V57')"
      ],
      "execution_count": 12,
      "outputs": [
        {
          "output_type": "execute_result",
          "data": {
            "text/plain": [
              "<matplotlib.axes._subplots.AxesSubplot at 0x7ff270a195f8>"
            ]
          },
          "metadata": {
            "tags": []
          },
          "execution_count": 12
        },
        {
          "output_type": "display_data",
          "data": {
            "image/png": "[encoded data removed]",
            "text/plain": [
              "<Figure size 432x288 with 1 Axes>"
            ]
          },
          "metadata": {
            "tags": [],
            "needs_background": "light"
          }
        }
      ]
    },
    {
      "cell_type": "code",
      "metadata": {
        "id": "lSR9JpTbeIBI",
        "colab_type": "code",
        "colab": {
          "base_uri": "https://localhost:8080/",
          "height": 806
        },
        "outputId": "5988e1a0-95ee-421b-a016-5cbea09ce993"
      },
      "source": [
        "cor = df.corr()\n",
        "#Correlation with output variable\n",
        "cor_target = abs(cor[\"V58\"])\n",
        "print(cor_target)"
      ],
      "execution_count": 15,
      "outputs": [
        {
          "output_type": "stream",
          "text": [
            "V1     0.023810\n",
            "V3     0.204405\n",
            "V4     0.309349\n",
            "V8     0.065434\n",
            "V9     0.144038\n",
            "V10    0.039983\n",
            "V11    0.112136\n",
            "V12    0.099745\n",
            "V13    0.090890\n",
            "V14    0.085525\n",
            "V15    0.088660\n",
            "V16    0.001277\n",
            "V18    0.071976\n",
            "V19    0.183453\n",
            "V20    0.052685\n",
            "V21    0.037505\n",
            "V22    0.118476\n",
            "V23    0.165533\n",
            "V24    0.110801\n",
            "V25    0.143824\n",
            "V26    0.064526\n",
            "V27    0.019151\n",
            "V28    0.113564\n",
            "V29    0.247064\n",
            "V30    0.260546\n",
            "V31    0.066130\n",
            "V32    0.410762\n",
            "V33    0.058539\n",
            "V34    0.139876\n",
            "V35    0.089957\n",
            "V36    0.102718\n",
            "V37    0.015849\n",
            "V38    0.406703\n",
            "V39    0.163591\n",
            "V40    0.424634\n",
            "V41    0.320719\n",
            "V42    0.112146\n",
            "V43    0.045519\n",
            "V44    0.450304\n",
            "V50    0.065434\n",
            "V51    0.503341\n",
            "V54    0.097688\n",
            "V55    0.074246\n",
            "V56    0.018240\n",
            "V57    0.136202\n",
            "V58    1.000000\n",
            "Name: V58, dtype: float64\n"
          ],
          "name": "stdout"
        }
      ]
    },
    {
      "cell_type": "code",
      "metadata": {
        "id": "GX7Zg8gqeIBM",
        "colab_type": "code",
        "colab": {
          "base_uri": "https://localhost:8080/",
          "height": 218
        },
        "outputId": "cfd1ec3b-f44d-42e4-9b35-ce0a6c08d663"
      },
      "source": [
        "#Selecting highly correlated features\n",
        "relevant_features = cor_target[cor_target>0.2]\n",
        "relevant_features"
      ],
      "execution_count": 16,
      "outputs": [
        {
          "output_type": "execute_result",
          "data": {
            "text/plain": [
              "V3     0.204405\n",
              "V4     0.309349\n",
              "V29    0.247064\n",
              "V30    0.260546\n",
              "V32    0.410762\n",
              "V38    0.406703\n",
              "V40    0.424634\n",
              "V41    0.320719\n",
              "V44    0.450304\n",
              "V51    0.503341\n",
              "V58    1.000000\n",
              "Name: V58, dtype: float64"
            ]
          },
          "metadata": {
            "tags": []
          },
          "execution_count": 16
        }
      ]
    },
    {
      "cell_type": "code",
      "metadata": {
        "id": "Z-JyaL90eIBP",
        "colab_type": "code",
        "colab": {}
      },
      "source": [
        "# Separate Input features X and Class variable Y\n",
        "X = df.iloc[:,:-1]\n",
        "Y = df.iloc[:,-1]"
      ],
      "execution_count": 0,
      "outputs": []
    },
    {
      "cell_type": "code",
      "metadata": {
        "id": "_XGtkg7BeIBU",
        "colab_type": "code",
        "colab": {}
      },
      "source": [
        "from sklearn.model_selection import train_test_split\n",
        "# Split Training and Testing Data\n",
        "X_train,X_test,Y_train,Y_test = train_test_split(X,Y,test_size = 0.25, random_state=1)"
      ],
      "execution_count": 0,
      "outputs": []
    },
    {
      "cell_type": "code",
      "metadata": {
        "id": "cgq0yclWeIBX",
        "colab_type": "code",
        "colab": {
          "base_uri": "https://localhost:8080/",
          "height": 454
        },
        "outputId": "0bffa6f9-4a51-4384-922b-a239bc8729d3"
      },
      "source": [
        "from sklearn.decomposition import PCA# Make an instance of the Model\n",
        "pca = PCA(0.95)\n",
        "pca.fit(X_train)\n",
        "X_train = pca.transform(X_train)\n",
        "X_test = pca.transform(X_test)\n",
        "print(X_train.shape)\n",
        "X_train[:5]"
      ],
      "execution_count": 19,
      "outputs": [
        {
          "output_type": "stream",
          "text": [
            "(211, 21)\n"
          ],
          "name": "stdout"
        },
        {
          "output_type": "execute_result",
          "data": {
            "text/plain": [
              "array([[-0.91097359,  0.41429698, -0.39635717,  0.15205053, -0.22201778,\n",
              "         0.03916557,  0.13171279, -0.10048158, -0.27036022, -0.07539364,\n",
              "        -0.1984106 ,  0.04350049,  0.19806877, -0.30644461, -0.35637445,\n",
              "        -0.09330851,  0.08689634,  0.14540468,  0.10981325,  0.15293385,\n",
              "        -0.05406917],\n",
              "       [-0.6648444 , -0.61297324,  0.24325392, -0.2569509 ,  0.28162555,\n",
              "        -0.55755795, -0.29101774,  0.56980522,  0.6522183 ,  0.22501934,\n",
              "        -0.41280988,  0.3626176 , -0.51766723, -0.1997082 ,  0.00564332,\n",
              "        -0.46384919, -0.02268064, -0.08692214,  0.0295154 ,  0.05050875,\n",
              "         0.01171918],\n",
              "       [ 0.30811971,  0.05479825, -0.49765676, -0.34555092,  0.76809046,\n",
              "        -0.05585473,  0.62069928,  0.09148509,  0.13694984, -0.11110066,\n",
              "        -0.06690613, -0.24052988,  0.17415659, -0.14403592,  0.43146299,\n",
              "         0.23067176,  0.64130381, -0.02985563, -0.20901871, -0.00466421,\n",
              "         0.09591965],\n",
              "       [-0.91016315, -0.13592486,  0.11564033,  0.61658445, -0.09445695,\n",
              "        -0.20000911, -0.03239463, -0.48973791, -0.05114856,  0.12077716,\n",
              "         0.01205755, -0.15521219, -0.12777721,  0.27437338,  0.21134437,\n",
              "        -0.21169689,  0.26277769,  0.21707479, -0.12071527, -0.14324272,\n",
              "         0.19119761],\n",
              "       [-0.29491046,  0.72300513, -0.07497529,  0.77350482, -0.44644751,\n",
              "         0.65847424, -0.5823003 ,  0.3596254 ,  0.97835685,  0.03354881,\n",
              "        -0.00843699,  0.36696877,  0.53697572, -0.27891776, -0.07431967,\n",
              "        -0.12979418,  0.06547368, -0.10629114,  0.81562756, -0.10801897,\n",
              "         0.5871563 ]])"
            ]
          },
          "metadata": {
            "tags": []
          },
          "execution_count": 19
        }
      ]
    },
    {
      "cell_type": "code",
      "metadata": {
        "id": "8vQZi1uteIBb",
        "colab_type": "code",
        "colab": {}
      },
      "source": [
        "\"\"\"\n",
        "\n",
        "RFE  reccursive feature elimination\n",
        "\n",
        "Lasso and Ridge regression\n",
        "\"\"\""
      ],
      "execution_count": 0,
      "outputs": []
    }
  ]
}